{
 "cells": [
  {
   "cell_type": "code",
   "execution_count": 96,
   "id": "00e7f875",
   "metadata": {},
   "outputs": [],
   "source": [
    "#importing libraries\n",
    "from bs4 import BeautifulSoup as bs   #for making selections from webpage and improving readability of HTML\n",
    "import requests                       #to send get requests\n",
    "import os                             #to change the folder location of downloads\n",
    "import wget                           #for downloading"
   ]
  },
  {
   "cell_type": "code",
   "execution_count": 97,
   "id": "e06f6ff9",
   "metadata": {},
   "outputs": [
    {
     "name": "stdout",
     "output_type": "stream",
     "text": [
      "Search in scientific articles: 5g gps\n"
     ]
    }
   ],
   "source": [
    "#passing browsers to user-agents\n",
    "headers = { 'User-Agent': 'Mozilla/5.0 (Windows NT 10.0; Win64; x64) AppleWebKit/537.36 (KHTML, like Gecko) Chrome/91.0.4472.124 Safari/537.36'}\n",
    "#take search input from user\n",
    "search_input = input(\"Search in scientific articles: \")\n",
    "#replacing spaces by '+'\n",
    "search_list = search_input.split(' ')\n",
    "search_input = \"\"\n",
    "for word in search_list:\n",
    "    search_input += str(word)\n",
    "    search_input += (\"+\") #search keywords are separated by '+'\n",
    "#slicing the last character,'+'\n",
    "search_input = search_input[:-1]\n",
    "search = \"https://libgen.rs/scimag/?q=\" + search_input"
   ]
  },
  {
   "cell_type": "code",
   "execution_count": 98,
   "id": "a19235da",
   "metadata": {},
   "outputs": [
    {
     "data": {
      "text/plain": [
       "'https://libgen.rs/scimag/?q=5g+gps'"
      ]
     },
     "execution_count": 98,
     "metadata": {},
     "output_type": "execute_result"
    }
   ],
   "source": [
    "search"
   ]
  },
  {
   "cell_type": "code",
   "execution_count": 99,
   "id": "81d7a1e1",
   "metadata": {},
   "outputs": [],
   "source": [
    "page = requests.get(search, headers=headers) \n",
    "#gets all the search responses"
   ]
  },
  {
   "cell_type": "code",
   "execution_count": 100,
   "id": "19536416",
   "metadata": {},
   "outputs": [
    {
     "data": {
      "text/plain": [
       "'<!DOCTYPE HTML PUBLIC \"-//W3C//DTD HTML 4.01//EN\" \"http://www.w3.org/TR/html4/strict.dtd\">\\n<html>\\n<head>\\n\\t<meta http-equiv=\"Content-Type\" content=\"text/html; charset=utf-8\">\\n\\t\\t<title>Library Genesis • scientific articles</title>\\n\\t\\t\\t<base href=\"/scimag/\">\\n\\t\\t<link rel=\"stylesheet\" href=\"/static/style.css\">\\n\\t<link rel=\"stylesheet\" href=\"/static/menu.css\">\\n\\t<script type=\"text/javascript\" src=\"/static/jquery-3.3.1.min.js\"></script>\\n\\t\\t<link rel=\"search\" type=\"application/opensearchdescription+xml\" href=\"/scimag/opensearch.xml\" title=\"Library Genesis • scientific articles\">\\n\\t\\n</head>\\n<body>\\n<ul id=\"menu\">\\n\\t<li><div class=\"drop\">Download</div>\\n\\t\\t<div class=\"dropdown_2columns\">\\n\\t\\t\\t<div class=\"col_2\">\\n\\t\\t\\t\\t<ul>\\n\\t\\t\\t\\t\\t<li><a href=\"/dbdumps/\">Database dumps (library\\'s catalogue)</a></li>\\n\\t\\t\\t\\t\\t<li><a href=\"/scimag/repository_torrent/\">Torrents (library\\'s content)</a></li>\\n\\t\\t\\t\\t\\t<li><a href=\"https://phillm.net/libgen-stats-table.php\">Torrent health tracker</a></li>\\n\\t\\t\\t\\t</ul>\\n\\t\\t\\t</div>\\n\\t\\t</div>\\n\\t</li>\\n\\t<li><a class=\"drop\" href=\"https://wiki.mhut.org/content:how_to_upload\">Upload</a>\\n\\t\\t<div class=\"dropdown_2columns\">\\n\\t\\t\\t<div class=\"col_2\">\\n\\t\\t\\t\\t<div><a href=\"/scimag/librarian/\">Web uploader</a></div>\\n\\t\\t\\t\\t<div style=\"margin:0 0 1em 0\">for an anonymous access use<br>username: <em>genesis</em><br>password: <em>upload</em></div>\\n\\t\\t\\t\\t<div><a href=\"https://wiki.mhut.org/content:how_to_upload\">A quick guide on how to upload</a></div>\\n\\t\\t\\t</div>\\n\\t\\t</div>\\n\\t</li>\\n\\t<li><div class=\"drop\">Updates</div>\\n\\t\\t<div class=\"dropdown_2columns\">\\n\\t\\t\\t<div class=\"col_2\">\\n\\t\\t\\t\\t<ul>\\n\\t\\t\\t\\t\\t<li><a href=\"/scimag/recent\">Recently added files (last 100&nbsp;000)</a></li>\\n\\t\\t\\t\\t</ul>\\n\\t\\t\\t</div>\\n\\t\\t</div>\\n\\t</li>\\n\\t<li><a href=\"/scimag/journals/\" class=\"drop\">All journals</a>\\n\\t\\t<div class=\"dropdown_3lettercolumn\" style=\"width:290px\">\\n\\t\\t\\t<ul class=\"greybox\">\\n\\t\\t\\t\\t\\t\\t\\t\\t\\t\\t\\t\\t<li><a href=\"/scimag/journals/?letter=A\">A</a></li>\\n\\t\\t\\t\\t\\t\\t\\t\\t<li><a href=\"/scimag/journals/?letter=B\">B</a></li>\\n\\t\\t\\t\\t\\t\\t\\t\\t<li><a href=\"/scimag/journals/?letter=C\">C</a></li>\\n\\t\\t\\t\\t\\t\\t\\t\\t<li><a href=\"/scimag/journals/?letter=D\">D</a></li>\\n\\t\\t\\t\\t\\t\\t\\t\\t<li><a href=\"/scimag/journals/?letter=E\">E</a></li>\\n\\t\\t\\t\\t\\t\\t\\t\\t<li><a href=\"/scimag/journals/?letter=F\">F</a></li>\\n\\t\\t\\t\\t\\t\\t\\t\\t<li><a href=\"/scimag/journals/?letter=G\">G</a></li>\\n\\t\\t\\t\\t\\t\\t\\t\\t<li><a href=\"/scimag/journals/?letter=H\">H</a></li>\\n\\t\\t\\t\\t\\t\\t\\t\\t<li><a href=\"/scimag/journals/?letter=I\">I</a></li>\\n\\t\\t\\t\\t\\t\\t\\t\\t<li><a href=\"/scimag/journals/?letter=J\">J</a></li>\\n\\t\\t\\t\\t\\t\\t\\t\\t<li><a href=\"/scimag/journals/?letter=K\">K</a></li>\\n\\t\\t\\t\\t\\t\\t\\t\\t<li><a href=\"/scimag/journals/?letter=L\">L</a></li>\\n\\t\\t\\t\\t\\t\\t\\t\\t<li><a href=\"/scimag/journals/?letter=M\">M</a></li>\\n\\t\\t\\t\\t\\t\\t\\t\\t<li><a href=\"/scimag/journals/?letter=N\">N</a></li>\\n\\t\\t\\t\\t\\t\\t\\t\\t<li><a href=\"/scimag/journals/?letter=O\">O</a></li>\\n\\t\\t\\t\\t\\t\\t\\t\\t<li><a href=\"/scimag/journals/?letter=P\">P</a></li>\\n\\t\\t\\t\\t\\t\\t\\t\\t<li><a href=\"/scimag/journals/?letter=Q\">Q</a></li>\\n\\t\\t\\t\\t\\t\\t\\t\\t<li><a href=\"/scimag/journals/?letter=R\">R</a></li>\\n\\t\\t\\t\\t\\t\\t\\t\\t<li><a href=\"/scimag/journals/?letter=S\">S</a></li>\\n\\t\\t\\t\\t\\t\\t\\t\\t<li><a href=\"/scimag/journals/?letter=T\">T</a></li>\\n\\t\\t\\t\\t\\t\\t\\t\\t<li><a href=\"/scimag/journals/?letter=U\">U</a></li>\\n\\t\\t\\t\\t\\t\\t\\t\\t<li><a href=\"/scimag/journals/?letter=V\">V</a></li>\\n\\t\\t\\t\\t\\t\\t\\t\\t<li><a href=\"/scimag/journals/?letter=W\">W</a></li>\\n\\t\\t\\t\\t\\t\\t\\t\\t<li><a href=\"/scimag/journals/?letter=X\">X</a></li>\\n\\t\\t\\t\\t\\t\\t\\t\\t<li><a href=\"/scimag/journals/?letter=Y\">Y</a></li>\\n\\t\\t\\t\\t\\t\\t\\t\\t<li><a href=\"/scimag/journals/?letter=Z\">Z</a></li>\\n\\t\\t\\t\\t\\n\\t\\t\\t\\t<li><a href=\"/scimag/journals/?letter=0-9\">0-9</a></li>\\n\\t\\t\\t\\t<li><a href=\"/scimag/journals/?letter=other\">other</a></li>\\n\\t\\t\\t</ul>\\n\\t\\t</div>\\n\\t</li>\\n\\t<li><a href=\"https://forum.mhut.org/\">Community &amp; support</a></li>\\n</ul>\\n\\n<h1 class=\"header\"><a href=\"/\">Library Genesis</a>: <a href=\"/scimag/\">Scientific articles</a></h1>\\n<p style=\"margin:1em 0;text-align:center\">\\nCurrent alias domains are <a href=\"http://libgen.rs/\">libgen.rs</a>, <a href=\"http://libgen.is/\">libgen.is</a>, <a href=\"http://libgen.st/\">libgen.st</a>. Update your bookmarks!<br>\\nTry <a href=\"https://wiki.mhut.org/software:libgen_desktop\">Libgen Desktop</a> application!\\n</p>\\n\\n\\n<form action=\"/scimag/\" method=\"get\" id=\"search_form\">\\n\\n<div>\\n\\t<input type=\"text\" name=\"q\" value=\"5g gps\" style=\"width:93%\">\\n\\t<input type=\"submit\" value=\"search\">\\n</div>\\n<p class=\"search_tips\">You can search by the article title, title + authors, DOI (Digital Object Identifier). Keep in mind that the text search is currently limited to first 100 results and not sorted by relevance, for better results try with a more precise query.</p>\\n</form>\\n\\n\\n\\n<script type=\"text/javascript\">\\n$(document).ready(function() {\\n\\t$(\\'.page_selector\\').replaceWith(\\'<select class=\"page_selector\"></select>\\');\\n\\tvar list = $(\\'.page_selector\\');\\n\\tvar options = new Array();\\n\\tvar total_pages = 1;\\n\\tif (total_pages > 500)\\n\\t{\\n\\t\\tfor (var i = 1; i <= 200; i++) {\\n\\t\\t\\tvar option = $(\\'<option></option>\\').attr(\\'value\\', i).text(\\'page \\' + i + \\' / \\' + total_pages);\\n\\t\\t\\tif (i == 1) option.attr(\\'selected\\', \\'selected\\');\\n\\t\\t\\toptions.push(option);\\n\\t\\t}\\n\\t\\toptions.push(\\'<option>...</option>\\');\\n\\t\\tfor (var i = total_pages - 200 + 1; i <= total_pages; i++) {\\n\\t\\t\\tvar option = $(\\'<option></option>\\').attr(\\'value\\', i).text(\\'page \\' + i + \\' / \\' + total_pages);\\n\\t\\t\\tif (i == 1) option.attr(\\'selected\\', \\'selected\\');\\n\\t\\t\\toptions.push(option);\\n\\t\\t}\\n\\t}\\n\\telse\\n\\t{\\n\\t\\tfor (var i = 1; i <= total_pages; i++) {\\n\\t\\t\\tvar option = $(\\'<option></option>\\').attr(\\'value\\', i).text(\\'page \\' + i + \\' / \\' + total_pages);\\n\\t\\t\\tif (i == 1) option.attr(\\'selected\\', \\'selected\\');\\n\\t\\t\\toptions.push(option);\\n\\t\\t}\\n\\t}\\n\\tlist.append(options);\\n\\tlist.on(\\'change\\', function() {\\n\\t\\tif (this.value != \\'...\\')\\n\\t\\t\\twindow.location.href = \"/scimag/?q=5g+gps&page=\" + this.value;\\n\\t});\\n});\\n</script>\\n\\n\\n\\n<div class=\"catalog_paginator\">\\n\\t<div style=\"float:left\">7 files found</div>\\n\\t</div>\\n<div style=\"clear:both\"></div>\\n\\n\\n\\n<table class=\"catalog\">\\n<thead><tr>\\n\\t<td style=\"width:15em\">\\t\\t\\t\\t\\t\\t<a href=\"/scimag/?q=5g+gps&sort=author:a\" title=\"sort\">Author(s) <span class=\"sort_direction\">&varr;</span></a>\\n\\t\\t\\t</td>\\n\\t<td style=\"\">\\t\\t\\t\\t\\t\\t<a href=\"/scimag/?q=5g+gps&sort=title:a\" title=\"sort\">Article <span class=\"sort_direction\">&varr;</span></a>\\n\\t\\t\\t</td>\\n\\t<td>\\t\\t\\t\\t\\t\\t<a href=\"/scimag/?q=5g+gps&sort=journal:a\" title=\"sort\">Journal <span class=\"sort_direction\">&varr;</span></a>\\n\\t\\t\\t</td>\\n\\t<td style=\"\">File</td>\\n\\t<td style=\"width:10%\">Mirrors</td>\\n</tr></thead>\\n<tbody>\\n<tr>\\n\\t<td>Chaichana, Phimchan; Uthansakul, Peerapong; Uthansakul, Monthippa </td>\\n\\t<td>\\n\\t\\t<p><a href=\"/scimag/10.1109%2FAPCC.2014.7092859\"> [IEEE 2014 Asia-Pacific Conference on Communications (APCC) - Pattaya, Thailand (2014.10.1-2014.10.3)] The 20th Asia-Pacific Conference on Communication (APCC2014) - GPS-aided opportunistic Space-Division Multiple Access for 5G communications</a></p>\\n\\t\\t<p>DOI: 10.1109/APCC.2014.7092859</p>\\t</td>\\n\\t<td></td>\\n\\t<td>599&nbsp;Kb<br><a href=\"/scimag/librarian/form.php?doi=10.1109%2FAPCC.2014.7092859\" title=\"edit metadata\">[edit]</a></td>\\n\\t<td><ul class=\"record_mirrors\"><li><a href=\"https://sci-hub.ru/10.1109/APCC.2014.7092859\">Sci-Hub</a></li><li><a href=\"http://library.lol/scimag/10.1109/APCC.2014.7092859\">Libgen.rs</a></li><li><a href=\"https://libgen.lc/ads.php?doi=10.1109/APCC.2014.7092859\">Libgen.lc</a></li></ul></td>\\n</tr>\\n<tr>\\n\\t<td>Peng, Mingzhi; Li, Yixin; Zou, Huanqing; Wang, Mingkai; Yang, Guangli </td>\\n\\t<td>\\n\\t\\t<p><a href=\"/scimag/10.1109%2FICMMT.2018.8563954\"> [IEEE 2018 International Conference on Microwave and Millimeter Wave Technology (ICMMT) - Chengdu, China (2018.5.7-2018.5.11)] 2018 International Conference on Microwave and Millimeter Wave Technology (ICMMT) - A Penta-Band 5G/GPS Metal-Rimmed Antenna for Smartwatch Application</a></p>\\n\\t\\t<p>DOI: 10.1109/ICMMT.2018.8563954</p>\\t</td>\\n\\t<td></td>\\n\\t<td>360&nbsp;Kb<br><a href=\"/scimag/librarian/form.php?doi=10.1109%2FICMMT.2018.8563954\" title=\"edit metadata\">[edit]</a></td>\\n\\t<td><ul class=\"record_mirrors\"><li><a href=\"https://sci-hub.ru/10.1109/ICMMT.2018.8563954\">Sci-Hub</a></li><li><a href=\"http://library.lol/scimag/10.1109/ICMMT.2018.8563954\">Libgen.rs</a></li><li><a href=\"https://libgen.lc/ads.php?doi=10.1109/ICMMT.2018.8563954\">Libgen.lc</a></li></ul></td>\\n</tr>\\n<tr>\\n\\t<td>Mirzaei, Mojtaba; Honarvar, Mohammad Amin </td>\\n\\t<td>\\n\\t\\t<p><a href=\"/scimag/10.2528%2Fpierl16092307\">COMPACT PLANAR QUAD-BAND BANDPASS FILTER FOR APPLICATION IN GPS, WLAN, WIMAX AND 5G WIFI</a></p>\\n\\t\\t<p>DOI: 10.2528/pierl16092307</p>\\t</td>\\n\\t<td><p><a href=\"/scimag/journals/20228\">Progress In Electromagnetics Research Letters</a><p>volume&nbsp;63 (2016)</p></td>\\n\\t<td>894&nbsp;Kb<br><a href=\"/scimag/librarian/form.php?doi=10.2528%2Fpierl16092307\" title=\"edit metadata\">[edit]</a></td>\\n\\t<td><ul class=\"record_mirrors\"><li><a href=\"https://sci-hub.ru/10.2528/pierl16092307\">Sci-Hub</a></li><li><a href=\"http://library.lol/scimag/10.2528/pierl16092307\">Libgen.rs</a></li><li><a href=\"https://libgen.lc/ads.php?doi=10.2528/pierl16092307\">Libgen.lc</a></li></ul></td>\\n</tr>\\n<tr>\\n\\t<td>Huang, Daiwei; Du, Zhengwei; Wang, Yan </td>\\n\\t<td>\\n\\t\\t<p><a href=\"/scimag/10.1109%2FLAWP.2019.2924322\">A Quad-Antenna System for 4G/5G/GPS Metal Frame Mobile Phones</a></p>\\n\\t\\t<p>DOI: 10.1109/LAWP.2019.2924322</p>\\t</td>\\n\\t<td><p><a href=\"/scimag/journals/9075\">IEEE Antennas and Wireless Propagation Letters</a><p> (2019)</p></td>\\n\\t<td>1.35&nbsp;Mb<br><a href=\"/scimag/librarian/form.php?doi=10.1109%2FLAWP.2019.2924322\" title=\"edit metadata\">[edit]</a></td>\\n\\t<td><ul class=\"record_mirrors\"><li><a href=\"https://sci-hub.ru/10.1109/LAWP.2019.2924322\">Sci-Hub</a></li><li><a href=\"http://library.lol/scimag/10.1109/LAWP.2019.2924322\">Libgen.rs</a></li><li><a href=\"https://libgen.lc/ads.php?doi=10.1109/LAWP.2019.2924322\">Libgen.lc</a></li></ul></td>\\n</tr>\\n<tr>\\n\\t<td>Mekala, MS; Viswanathan, P.; Srinivasu, N.; Varma, GPS </td>\\n\\t<td>\\n\\t\\t<p><a href=\"/scimag/10.1109%2FIC3I46837.2019.9055546\"> [IEEE 2019 International Conference on contemporary Computing and Informatics (IC3I) - Singapore, Singapore (2019.12.12-2019.12.14)] 2019 International Conference on contemporary Computing and Informatics (IC3I) - Accurate Decision-making System for Mining Environment using Li-Fi 5G Technology over IoT Framework</a></p>\\n\\t\\t<p>DOI: 10.1109/IC3I46837.2019.9055546</p>\\t</td>\\n\\t<td></td>\\n\\t<td>925&nbsp;Kb<br><a href=\"/scimag/librarian/form.php?doi=10.1109%2FIC3I46837.2019.9055546\" title=\"edit metadata\">[edit]</a></td>\\n\\t<td><ul class=\"record_mirrors\"><li><a href=\"https://sci-hub.ru/10.1109/IC3I46837.2019.9055546\">Sci-Hub</a></li><li><a href=\"http://library.lol/scimag/10.1109/IC3I46837.2019.9055546\">Libgen.rs</a></li><li><a href=\"https://libgen.lc/ads.php?doi=10.1109/IC3I46837.2019.9055546\">Libgen.lc</a></li></ul></td>\\n</tr>\\n<tr>\\n\\t<td>Gante, Joao; Sousa, Leonel; Falcao, Gabriel </td>\\n\\t<td>\\n\\t\\t<p><a href=\"/scimag/10.1109%2FJETCAS.2020.2991024\">Dethroning GPS: Low-Power Accurate 5G Positioning Systems Using Machine Learning</a></p>\\n\\t\\t<p>DOI: 10.1109/JETCAS.2020.2991024</p>\\t</td>\\n\\t<td><p><a href=\"/scimag/journals/9116\">IEEE Journal on Emerging and Selected Topics in Circuits and Systems</a><p>volume&nbsp;10, issue&nbsp;2 (2020)</p></td>\\n\\t<td>2.21&nbsp;Mb<br><a href=\"/scimag/librarian/form.php?doi=10.1109%2FJETCAS.2020.2991024\" title=\"edit metadata\">[edit]</a></td>\\n\\t<td><ul class=\"record_mirrors\"><li><a href=\"https://sci-hub.ru/10.1109/JETCAS.2020.2991024\">Sci-Hub</a></li><li><a href=\"http://library.lol/scimag/10.1109/JETCAS.2020.2991024\">Libgen.rs</a></li><li><a href=\"https://libgen.lc/ads.php?doi=10.1109/JETCAS.2020.2991024\">Libgen.lc</a></li></ul></td>\\n</tr>\\n<tr>\\n\\t<td>Lopatka, Alex</td>\\n\\t<td>\\n\\t\\t<p><a href=\"/scimag/10.1063%2Fpt.3.4544\">New 5G exemption may jam GPS devices</a></p>\\n\\t\\t<p>DOI: 10.1063/pt.3.4544</p>\\t</td>\\n\\t<td><p><a href=\"/scimag/journals/19593\">Physics Today</a><p>volume&nbsp;73, issue&nbsp;8 (2020)</p></td>\\n\\t<td>411&nbsp;Kb<br><a href=\"/scimag/librarian/form.php?doi=10.1063%2Fpt.3.4544\" title=\"edit metadata\">[edit]</a></td>\\n\\t<td><ul class=\"record_mirrors\"><li><a href=\"https://sci-hub.ru/10.1063/pt.3.4544\">Sci-Hub</a></li><li><a href=\"http://library.lol/scimag/10.1063/pt.3.4544\">Libgen.rs</a></li><li><a href=\"https://libgen.lc/ads.php?doi=10.1063/pt.3.4544\">Libgen.lc</a></li></ul></td>\\n</tr>\\n\\n</tbody>\\n</table>\\n<div class=\"catalog_paginator\">\\n\\t<div style=\"float:left\">7 files found</div>\\n\\t</div>\\n<div style=\"clear:both\"></div>\\n\\n\\n</body>\\n</html>\\n'"
      ]
     },
     "execution_count": 100,
     "metadata": {},
     "output_type": "execute_result"
    }
   ],
   "source": [
    "page.text #html "
   ]
  },
  {
   "cell_type": "code",
   "execution_count": 101,
   "id": "1c4a1ab2",
   "metadata": {},
   "outputs": [],
   "source": [
    "soup = bs(page.text) #human-readable html"
   ]
  },
  {
   "cell_type": "code",
   "execution_count": 102,
   "id": "beb5e7ba",
   "metadata": {},
   "outputs": [
    {
     "data": {
      "text/plain": [
       "<!DOCTYPE HTML PUBLIC \"-//W3C//DTD HTML 4.01//EN\" \"http://www.w3.org/TR/html4/strict.dtd\">\n",
       "\n",
       "<html>\n",
       "<head>\n",
       "<meta content=\"text/html; charset=utf-8\" http-equiv=\"Content-Type\"/>\n",
       "<title>Library Genesis • scientific articles</title>\n",
       "<base href=\"/scimag/\"/>\n",
       "<link href=\"/static/style.css\" rel=\"stylesheet\"/>\n",
       "<link href=\"/static/menu.css\" rel=\"stylesheet\"/>\n",
       "<script src=\"/static/jquery-3.3.1.min.js\" type=\"text/javascript\"></script>\n",
       "<link href=\"/scimag/opensearch.xml\" rel=\"search\" title=\"Library Genesis • scientific articles\" type=\"application/opensearchdescription+xml\"/>\n",
       "</head>\n",
       "<body>\n",
       "<ul id=\"menu\">\n",
       "<li><div class=\"drop\">Download</div>\n",
       "<div class=\"dropdown_2columns\">\n",
       "<div class=\"col_2\">\n",
       "<ul>\n",
       "<li><a href=\"/dbdumps/\">Database dumps (library's catalogue)</a></li>\n",
       "<li><a href=\"/scimag/repository_torrent/\">Torrents (library's content)</a></li>\n",
       "<li><a href=\"https://phillm.net/libgen-stats-table.php\">Torrent health tracker</a></li>\n",
       "</ul>\n",
       "</div>\n",
       "</div>\n",
       "</li>\n",
       "<li><a class=\"drop\" href=\"https://wiki.mhut.org/content:how_to_upload\">Upload</a>\n",
       "<div class=\"dropdown_2columns\">\n",
       "<div class=\"col_2\">\n",
       "<div><a href=\"/scimag/librarian/\">Web uploader</a></div>\n",
       "<div style=\"margin:0 0 1em 0\">for an anonymous access use<br/>username: <em>genesis</em><br/>password: <em>upload</em></div>\n",
       "<div><a href=\"https://wiki.mhut.org/content:how_to_upload\">A quick guide on how to upload</a></div>\n",
       "</div>\n",
       "</div>\n",
       "</li>\n",
       "<li><div class=\"drop\">Updates</div>\n",
       "<div class=\"dropdown_2columns\">\n",
       "<div class=\"col_2\">\n",
       "<ul>\n",
       "<li><a href=\"/scimag/recent\">Recently added files (last 100 000)</a></li>\n",
       "</ul>\n",
       "</div>\n",
       "</div>\n",
       "</li>\n",
       "<li><a class=\"drop\" href=\"/scimag/journals/\">All journals</a>\n",
       "<div class=\"dropdown_3lettercolumn\" style=\"width:290px\">\n",
       "<ul class=\"greybox\">\n",
       "<li><a href=\"/scimag/journals/?letter=A\">A</a></li>\n",
       "<li><a href=\"/scimag/journals/?letter=B\">B</a></li>\n",
       "<li><a href=\"/scimag/journals/?letter=C\">C</a></li>\n",
       "<li><a href=\"/scimag/journals/?letter=D\">D</a></li>\n",
       "<li><a href=\"/scimag/journals/?letter=E\">E</a></li>\n",
       "<li><a href=\"/scimag/journals/?letter=F\">F</a></li>\n",
       "<li><a href=\"/scimag/journals/?letter=G\">G</a></li>\n",
       "<li><a href=\"/scimag/journals/?letter=H\">H</a></li>\n",
       "<li><a href=\"/scimag/journals/?letter=I\">I</a></li>\n",
       "<li><a href=\"/scimag/journals/?letter=J\">J</a></li>\n",
       "<li><a href=\"/scimag/journals/?letter=K\">K</a></li>\n",
       "<li><a href=\"/scimag/journals/?letter=L\">L</a></li>\n",
       "<li><a href=\"/scimag/journals/?letter=M\">M</a></li>\n",
       "<li><a href=\"/scimag/journals/?letter=N\">N</a></li>\n",
       "<li><a href=\"/scimag/journals/?letter=O\">O</a></li>\n",
       "<li><a href=\"/scimag/journals/?letter=P\">P</a></li>\n",
       "<li><a href=\"/scimag/journals/?letter=Q\">Q</a></li>\n",
       "<li><a href=\"/scimag/journals/?letter=R\">R</a></li>\n",
       "<li><a href=\"/scimag/journals/?letter=S\">S</a></li>\n",
       "<li><a href=\"/scimag/journals/?letter=T\">T</a></li>\n",
       "<li><a href=\"/scimag/journals/?letter=U\">U</a></li>\n",
       "<li><a href=\"/scimag/journals/?letter=V\">V</a></li>\n",
       "<li><a href=\"/scimag/journals/?letter=W\">W</a></li>\n",
       "<li><a href=\"/scimag/journals/?letter=X\">X</a></li>\n",
       "<li><a href=\"/scimag/journals/?letter=Y\">Y</a></li>\n",
       "<li><a href=\"/scimag/journals/?letter=Z\">Z</a></li>\n",
       "<li><a href=\"/scimag/journals/?letter=0-9\">0-9</a></li>\n",
       "<li><a href=\"/scimag/journals/?letter=other\">other</a></li>\n",
       "</ul>\n",
       "</div>\n",
       "</li>\n",
       "<li><a href=\"https://forum.mhut.org/\">Community &amp; support</a></li>\n",
       "</ul>\n",
       "<h1 class=\"header\"><a href=\"/\">Library Genesis</a>: <a href=\"/scimag/\">Scientific articles</a></h1>\n",
       "<p style=\"margin:1em 0;text-align:center\">\n",
       "Current alias domains are <a href=\"http://libgen.rs/\">libgen.rs</a>, <a href=\"http://libgen.is/\">libgen.is</a>, <a href=\"http://libgen.st/\">libgen.st</a>. Update your bookmarks!<br/>\n",
       "Try <a href=\"https://wiki.mhut.org/software:libgen_desktop\">Libgen Desktop</a> application!\n",
       "</p>\n",
       "<form action=\"/scimag/\" id=\"search_form\" method=\"get\">\n",
       "<div>\n",
       "<input name=\"q\" style=\"width:93%\" type=\"text\" value=\"5g gps\"/>\n",
       "<input type=\"submit\" value=\"search\"/>\n",
       "</div>\n",
       "<p class=\"search_tips\">You can search by the article title, title + authors, DOI (Digital Object Identifier). Keep in mind that the text search is currently limited to first 100 results and not sorted by relevance, for better results try with a more precise query.</p>\n",
       "</form>\n",
       "<script type=\"text/javascript\">\n",
       "$(document).ready(function() {\n",
       "\t$('.page_selector').replaceWith('<select class=\"page_selector\"></select>');\n",
       "\tvar list = $('.page_selector');\n",
       "\tvar options = new Array();\n",
       "\tvar total_pages = 1;\n",
       "\tif (total_pages > 500)\n",
       "\t{\n",
       "\t\tfor (var i = 1; i <= 200; i++) {\n",
       "\t\t\tvar option = $('<option></option>').attr('value', i).text('page ' + i + ' / ' + total_pages);\n",
       "\t\t\tif (i == 1) option.attr('selected', 'selected');\n",
       "\t\t\toptions.push(option);\n",
       "\t\t}\n",
       "\t\toptions.push('<option>...</option>');\n",
       "\t\tfor (var i = total_pages - 200 + 1; i <= total_pages; i++) {\n",
       "\t\t\tvar option = $('<option></option>').attr('value', i).text('page ' + i + ' / ' + total_pages);\n",
       "\t\t\tif (i == 1) option.attr('selected', 'selected');\n",
       "\t\t\toptions.push(option);\n",
       "\t\t}\n",
       "\t}\n",
       "\telse\n",
       "\t{\n",
       "\t\tfor (var i = 1; i <= total_pages; i++) {\n",
       "\t\t\tvar option = $('<option></option>').attr('value', i).text('page ' + i + ' / ' + total_pages);\n",
       "\t\t\tif (i == 1) option.attr('selected', 'selected');\n",
       "\t\t\toptions.push(option);\n",
       "\t\t}\n",
       "\t}\n",
       "\tlist.append(options);\n",
       "\tlist.on('change', function() {\n",
       "\t\tif (this.value != '...')\n",
       "\t\t\twindow.location.href = \"/scimag/?q=5g+gps&page=\" + this.value;\n",
       "\t});\n",
       "});\n",
       "</script>\n",
       "<div class=\"catalog_paginator\">\n",
       "<div style=\"float:left\">7 files found</div>\n",
       "</div>\n",
       "<div style=\"clear:both\"></div>\n",
       "<table class=\"catalog\">\n",
       "<thead><tr>\n",
       "<td style=\"width:15em\"> <a href=\"/scimag/?q=5g+gps&amp;sort=author:a\" title=\"sort\">Author(s) <span class=\"sort_direction\">↕</span></a>\n",
       "</td>\n",
       "<td style=\"\"> <a href=\"/scimag/?q=5g+gps&amp;sort=title:a\" title=\"sort\">Article <span class=\"sort_direction\">↕</span></a>\n",
       "</td>\n",
       "<td> <a href=\"/scimag/?q=5g+gps&amp;sort=journal:a\" title=\"sort\">Journal <span class=\"sort_direction\">↕</span></a>\n",
       "</td>\n",
       "<td style=\"\">File</td>\n",
       "<td style=\"width:10%\">Mirrors</td>\n",
       "</tr></thead>\n",
       "<tbody>\n",
       "<tr>\n",
       "<td>Chaichana, Phimchan; Uthansakul, Peerapong; Uthansakul, Monthippa </td>\n",
       "<td>\n",
       "<p><a href=\"/scimag/10.1109%2FAPCC.2014.7092859\"> [IEEE 2014 Asia-Pacific Conference on Communications (APCC) - Pattaya, Thailand (2014.10.1-2014.10.3)] The 20th Asia-Pacific Conference on Communication (APCC2014) - GPS-aided opportunistic Space-Division Multiple Access for 5G communications</a></p>\n",
       "<p>DOI: 10.1109/APCC.2014.7092859</p> </td>\n",
       "<td></td>\n",
       "<td>599 Kb<br/><a href=\"/scimag/librarian/form.php?doi=10.1109%2FAPCC.2014.7092859\" title=\"edit metadata\">[edit]</a></td>\n",
       "<td><ul class=\"record_mirrors\"><li><a href=\"https://sci-hub.ru/10.1109/APCC.2014.7092859\">Sci-Hub</a></li><li><a href=\"http://library.lol/scimag/10.1109/APCC.2014.7092859\">Libgen.rs</a></li><li><a href=\"https://libgen.lc/ads.php?doi=10.1109/APCC.2014.7092859\">Libgen.lc</a></li></ul></td>\n",
       "</tr>\n",
       "<tr>\n",
       "<td>Peng, Mingzhi; Li, Yixin; Zou, Huanqing; Wang, Mingkai; Yang, Guangli </td>\n",
       "<td>\n",
       "<p><a href=\"/scimag/10.1109%2FICMMT.2018.8563954\"> [IEEE 2018 International Conference on Microwave and Millimeter Wave Technology (ICMMT) - Chengdu, China (2018.5.7-2018.5.11)] 2018 International Conference on Microwave and Millimeter Wave Technology (ICMMT) - A Penta-Band 5G/GPS Metal-Rimmed Antenna for Smartwatch Application</a></p>\n",
       "<p>DOI: 10.1109/ICMMT.2018.8563954</p> </td>\n",
       "<td></td>\n",
       "<td>360 Kb<br/><a href=\"/scimag/librarian/form.php?doi=10.1109%2FICMMT.2018.8563954\" title=\"edit metadata\">[edit]</a></td>\n",
       "<td><ul class=\"record_mirrors\"><li><a href=\"https://sci-hub.ru/10.1109/ICMMT.2018.8563954\">Sci-Hub</a></li><li><a href=\"http://library.lol/scimag/10.1109/ICMMT.2018.8563954\">Libgen.rs</a></li><li><a href=\"https://libgen.lc/ads.php?doi=10.1109/ICMMT.2018.8563954\">Libgen.lc</a></li></ul></td>\n",
       "</tr>\n",
       "<tr>\n",
       "<td>Mirzaei, Mojtaba; Honarvar, Mohammad Amin </td>\n",
       "<td>\n",
       "<p><a href=\"/scimag/10.2528%2Fpierl16092307\">COMPACT PLANAR QUAD-BAND BANDPASS FILTER FOR APPLICATION IN GPS, WLAN, WIMAX AND 5G WIFI</a></p>\n",
       "<p>DOI: 10.2528/pierl16092307</p> </td>\n",
       "<td><p><a href=\"/scimag/journals/20228\">Progress In Electromagnetics Research Letters</a><p>volume 63 (2016)</p></p></td>\n",
       "<td>894 Kb<br/><a href=\"/scimag/librarian/form.php?doi=10.2528%2Fpierl16092307\" title=\"edit metadata\">[edit]</a></td>\n",
       "<td><ul class=\"record_mirrors\"><li><a href=\"https://sci-hub.ru/10.2528/pierl16092307\">Sci-Hub</a></li><li><a href=\"http://library.lol/scimag/10.2528/pierl16092307\">Libgen.rs</a></li><li><a href=\"https://libgen.lc/ads.php?doi=10.2528/pierl16092307\">Libgen.lc</a></li></ul></td>\n",
       "</tr>\n",
       "<tr>\n",
       "<td>Huang, Daiwei; Du, Zhengwei; Wang, Yan </td>\n",
       "<td>\n",
       "<p><a href=\"/scimag/10.1109%2FLAWP.2019.2924322\">A Quad-Antenna System for 4G/5G/GPS Metal Frame Mobile Phones</a></p>\n",
       "<p>DOI: 10.1109/LAWP.2019.2924322</p> </td>\n",
       "<td><p><a href=\"/scimag/journals/9075\">IEEE Antennas and Wireless Propagation Letters</a><p> (2019)</p></p></td>\n",
       "<td>1.35 Mb<br/><a href=\"/scimag/librarian/form.php?doi=10.1109%2FLAWP.2019.2924322\" title=\"edit metadata\">[edit]</a></td>\n",
       "<td><ul class=\"record_mirrors\"><li><a href=\"https://sci-hub.ru/10.1109/LAWP.2019.2924322\">Sci-Hub</a></li><li><a href=\"http://library.lol/scimag/10.1109/LAWP.2019.2924322\">Libgen.rs</a></li><li><a href=\"https://libgen.lc/ads.php?doi=10.1109/LAWP.2019.2924322\">Libgen.lc</a></li></ul></td>\n",
       "</tr>\n",
       "<tr>\n",
       "<td>Mekala, MS; Viswanathan, P.; Srinivasu, N.; Varma, GPS </td>\n",
       "<td>\n",
       "<p><a href=\"/scimag/10.1109%2FIC3I46837.2019.9055546\"> [IEEE 2019 International Conference on contemporary Computing and Informatics (IC3I) - Singapore, Singapore (2019.12.12-2019.12.14)] 2019 International Conference on contemporary Computing and Informatics (IC3I) - Accurate Decision-making System for Mining Environment using Li-Fi 5G Technology over IoT Framework</a></p>\n",
       "<p>DOI: 10.1109/IC3I46837.2019.9055546</p> </td>\n",
       "<td></td>\n",
       "<td>925 Kb<br/><a href=\"/scimag/librarian/form.php?doi=10.1109%2FIC3I46837.2019.9055546\" title=\"edit metadata\">[edit]</a></td>\n",
       "<td><ul class=\"record_mirrors\"><li><a href=\"https://sci-hub.ru/10.1109/IC3I46837.2019.9055546\">Sci-Hub</a></li><li><a href=\"http://library.lol/scimag/10.1109/IC3I46837.2019.9055546\">Libgen.rs</a></li><li><a href=\"https://libgen.lc/ads.php?doi=10.1109/IC3I46837.2019.9055546\">Libgen.lc</a></li></ul></td>\n",
       "</tr>\n",
       "<tr>\n",
       "<td>Gante, Joao; Sousa, Leonel; Falcao, Gabriel </td>\n",
       "<td>\n",
       "<p><a href=\"/scimag/10.1109%2FJETCAS.2020.2991024\">Dethroning GPS: Low-Power Accurate 5G Positioning Systems Using Machine Learning</a></p>\n",
       "<p>DOI: 10.1109/JETCAS.2020.2991024</p> </td>\n",
       "<td><p><a href=\"/scimag/journals/9116\">IEEE Journal on Emerging and Selected Topics in Circuits and Systems</a><p>volume 10, issue 2 (2020)</p></p></td>\n",
       "<td>2.21 Mb<br/><a href=\"/scimag/librarian/form.php?doi=10.1109%2FJETCAS.2020.2991024\" title=\"edit metadata\">[edit]</a></td>\n",
       "<td><ul class=\"record_mirrors\"><li><a href=\"https://sci-hub.ru/10.1109/JETCAS.2020.2991024\">Sci-Hub</a></li><li><a href=\"http://library.lol/scimag/10.1109/JETCAS.2020.2991024\">Libgen.rs</a></li><li><a href=\"https://libgen.lc/ads.php?doi=10.1109/JETCAS.2020.2991024\">Libgen.lc</a></li></ul></td>\n",
       "</tr>\n",
       "<tr>\n",
       "<td>Lopatka, Alex</td>\n",
       "<td>\n",
       "<p><a href=\"/scimag/10.1063%2Fpt.3.4544\">New 5G exemption may jam GPS devices</a></p>\n",
       "<p>DOI: 10.1063/pt.3.4544</p> </td>\n",
       "<td><p><a href=\"/scimag/journals/19593\">Physics Today</a><p>volume 73, issue 8 (2020)</p></p></td>\n",
       "<td>411 Kb<br/><a href=\"/scimag/librarian/form.php?doi=10.1063%2Fpt.3.4544\" title=\"edit metadata\">[edit]</a></td>\n",
       "<td><ul class=\"record_mirrors\"><li><a href=\"https://sci-hub.ru/10.1063/pt.3.4544\">Sci-Hub</a></li><li><a href=\"http://library.lol/scimag/10.1063/pt.3.4544\">Libgen.rs</a></li><li><a href=\"https://libgen.lc/ads.php?doi=10.1063/pt.3.4544\">Libgen.lc</a></li></ul></td>\n",
       "</tr>\n",
       "</tbody>\n",
       "</table>\n",
       "<div class=\"catalog_paginator\">\n",
       "<div style=\"float:left\">7 files found</div>\n",
       "</div>\n",
       "<div style=\"clear:both\"></div>\n",
       "</body>\n",
       "</html>"
      ]
     },
     "execution_count": 102,
     "metadata": {},
     "output_type": "execute_result"
    }
   ],
   "source": [
    "soup"
   ]
  },
  {
   "cell_type": "code",
   "execution_count": 103,
   "id": "c740f995",
   "metadata": {},
   "outputs": [],
   "source": [
    "links = soup.select('td>p>a') #links are nested in each p of each td (check developer tools)"
   ]
  },
  {
   "cell_type": "code",
   "execution_count": 104,
   "id": "ad1cb296",
   "metadata": {},
   "outputs": [
    {
     "data": {
      "text/plain": [
       "['https://libgen.rs/scimag/10.1109%2FAPCC.2014.7092859',\n",
       " 'https://libgen.rs/scimag/10.1109%2FICMMT.2018.8563954',\n",
       " 'https://libgen.rs/scimag/10.2528%2Fpierl16092307',\n",
       " 'https://libgen.rs/scimag/journals/20228',\n",
       " 'https://libgen.rs/scimag/journals/9075',\n",
       " 'https://libgen.rs/scimag/10.1109%2FJETCAS.2020.2991024',\n",
       " 'https://libgen.rs/scimag/journals/9116',\n",
       " 'https://libgen.rs/scimag/journals/19593']"
      ]
     },
     "execution_count": 104,
     "metadata": {},
     "output_type": "execute_result"
    }
   ],
   "source": [
    "url = [] \n",
    "prefix = \"https://libgen.rs\"\n",
    "for link in links:\n",
    "    l = str(link)\n",
    "    if 'journals' in l:\n",
    "        links.remove(link) \n",
    "        #removing journals to maintain uniformity in torrent links \n",
    "    l = l.split('\"')\n",
    "    l = l[1]\n",
    "    url.append(prefix + l)\n",
    "url"
   ]
  },
  {
   "cell_type": "markdown",
   "id": "331ddf59",
   "metadata": {},
   "source": [
    "## https://libgen.rs/scimag/10.1109%2FAPCC.2014.7092859"
   ]
  },
  {
   "cell_type": "code",
   "execution_count": 105,
   "id": "e2b7fb7f",
   "metadata": {},
   "outputs": [],
   "source": [
    "for u in url:\n",
    "    page = requests.get(u, headers=headers)\n",
    "    soup = bs(page.text)\n",
    "    all_links = soup.select('td>ul>li>a') #see developer tools \n",
    "    for link2 in all_links:\n",
    "        if 'torrent' in link2:\n",
    "            l2 = str(link2)\n",
    "            l2 = l2.split('\"')\n",
    "            l2 = l2[1]\n",
    "            pdf_url = prefix + l2\n",
    "            wget.download(pdf_url)      \n",
    "        "
   ]
  },
  {
   "cell_type": "code",
   "execution_count": 106,
   "id": "53111ce6",
   "metadata": {},
   "outputs": [],
   "source": [
    "#use os to change the destination\n",
    "#os.rename('old_directory/test_file.txt', 'new_directory/test_file.txt')"
   ]
  }
 ],
 "metadata": {
  "kernelspec": {
   "display_name": "Python 3 (ipykernel)",
   "language": "python",
   "name": "python3"
  },
  "language_info": {
   "codemirror_mode": {
    "name": "ipython",
    "version": 3
   },
   "file_extension": ".py",
   "mimetype": "text/x-python",
   "name": "python",
   "nbconvert_exporter": "python",
   "pygments_lexer": "ipython3",
   "version": "3.11.0"
  }
 },
 "nbformat": 4,
 "nbformat_minor": 5
}
